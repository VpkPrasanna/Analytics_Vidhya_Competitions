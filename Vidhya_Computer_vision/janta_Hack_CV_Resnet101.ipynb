{
  "nbformat": 4,
  "nbformat_minor": 0,
  "metadata": {
    "kernelspec": {
      "display_name": "Python 3",
      "language": "python",
      "name": "python3"
    },
    "language_info": {
      "codemirror_mode": {
        "name": "ipython",
        "version": 3
      },
      "file_extension": ".py",
      "mimetype": "text/x-python",
      "name": "python",
      "nbconvert_exporter": "python",
      "pygments_lexer": "ipython3",
      "version": "3.6.9"
    },
    "colab": {
      "name": "janta-Hack-CV -Resnet101",
      "provenance": [],
      "collapsed_sections": [
        "hxQn2oBR2s2K"
      ]
    },
    "accelerator": "GPU"
  },
  "cells": [
    {
      "cell_type": "code",
      "metadata": {
        "id": "C-zQ1H7vw4f-",
        "colab_type": "code",
        "outputId": "7d919a02-1e8b-456d-c062-affcf22357d1",
        "colab": {
          "base_uri": "https://localhost:8080/",
          "height": 124
        }
      },
      "source": [
        "from google.colab import drive\n",
        "drive.mount('/content/drive')"
      ],
      "execution_count": 0,
      "outputs": [
        {
          "output_type": "stream",
          "text": [
            "Go to this URL in a browser: https://accounts.google.com/o/oauth2/auth?client_id=947318989803-6bn6qk8qdgf4n4g3pfee6491hc0brc4i.apps.googleusercontent.com&redirect_uri=urn%3aietf%3awg%3aoauth%3a2.0%3aoob&response_type=code&scope=email%20https%3a%2f%2fwww.googleapis.com%2fauth%2fdocs.test%20https%3a%2f%2fwww.googleapis.com%2fauth%2fdrive%20https%3a%2f%2fwww.googleapis.com%2fauth%2fdrive.photos.readonly%20https%3a%2f%2fwww.googleapis.com%2fauth%2fpeopleapi.readonly\n",
            "\n",
            "Enter your authorization code:\n",
            "··········\n",
            "Mounted at /content/drive\n"
          ],
          "name": "stdout"
        }
      ]
    },
    {
      "cell_type": "code",
      "metadata": {
        "id": "1Ih7BshQwwF5",
        "colab_type": "code",
        "colab": {
          "base_uri": "https://localhost:8080/",
          "height": 34
        },
        "outputId": "34a466c2-5e8b-4d68-fa59-0bca926ed381"
      },
      "source": [
        "import keras\n",
        "from keras.models import Sequential\n",
        "from keras.layers import Dense, Dropout, Flatten\n",
        "from keras.layers import Conv2D, MaxPooling2D\n",
        "from keras.utils import to_categorical\n",
        "from keras.preprocessing import image\n",
        "import numpy as np\n",
        "import pandas as pd\n",
        "import matplotlib.pyplot as plt\n",
        "from sklearn.model_selection import train_test_split\n",
        "from keras.utils import to_categorical\n",
        "from tqdm import tqdm"
      ],
      "execution_count": 3,
      "outputs": [
        {
          "output_type": "stream",
          "text": [
            "Using TensorFlow backend.\n"
          ],
          "name": "stderr"
        }
      ]
    },
    {
      "cell_type": "code",
      "metadata": {
        "id": "nKpW3qBMwwGN",
        "colab_type": "code",
        "colab": {}
      },
      "source": [
        "train = pd.read_csv(\"/content/drive/My Drive/Machine _Hack/janta-hack-CV/train/train.csv\")"
      ],
      "execution_count": 0,
      "outputs": []
    },
    {
      "cell_type": "code",
      "metadata": {
        "id": "MqP3Y6TowwGf",
        "colab_type": "code",
        "outputId": "8cdfb636-fda5-4c22-c65f-2bb65de08fe5",
        "colab": {
          "base_uri": "https://localhost:8080/",
          "height": 206
        }
      },
      "source": [
        "train.head()"
      ],
      "execution_count": 5,
      "outputs": [
        {
          "output_type": "execute_result",
          "data": {
            "text/html": [
              "<div>\n",
              "<style scoped>\n",
              "    .dataframe tbody tr th:only-of-type {\n",
              "        vertical-align: middle;\n",
              "    }\n",
              "\n",
              "    .dataframe tbody tr th {\n",
              "        vertical-align: top;\n",
              "    }\n",
              "\n",
              "    .dataframe thead th {\n",
              "        text-align: right;\n",
              "    }\n",
              "</style>\n",
              "<table border=\"1\" class=\"dataframe\">\n",
              "  <thead>\n",
              "    <tr style=\"text-align: right;\">\n",
              "      <th></th>\n",
              "      <th>image_names</th>\n",
              "      <th>emergency_or_not</th>\n",
              "    </tr>\n",
              "  </thead>\n",
              "  <tbody>\n",
              "    <tr>\n",
              "      <th>0</th>\n",
              "      <td>1503.jpg</td>\n",
              "      <td>0</td>\n",
              "    </tr>\n",
              "    <tr>\n",
              "      <th>1</th>\n",
              "      <td>1420.jpg</td>\n",
              "      <td>0</td>\n",
              "    </tr>\n",
              "    <tr>\n",
              "      <th>2</th>\n",
              "      <td>1764.jpg</td>\n",
              "      <td>0</td>\n",
              "    </tr>\n",
              "    <tr>\n",
              "      <th>3</th>\n",
              "      <td>1356.jpg</td>\n",
              "      <td>0</td>\n",
              "    </tr>\n",
              "    <tr>\n",
              "      <th>4</th>\n",
              "      <td>1117.jpg</td>\n",
              "      <td>0</td>\n",
              "    </tr>\n",
              "  </tbody>\n",
              "</table>\n",
              "</div>"
            ],
            "text/plain": [
              "  image_names  emergency_or_not\n",
              "0    1503.jpg                 0\n",
              "1    1420.jpg                 0\n",
              "2    1764.jpg                 0\n",
              "3    1356.jpg                 0\n",
              "4    1117.jpg                 0"
            ]
          },
          "metadata": {
            "tags": []
          },
          "execution_count": 5
        }
      ]
    },
    {
      "cell_type": "code",
      "metadata": {
        "id": "JrtsPcmqwwG5",
        "colab_type": "code",
        "outputId": "c7f1cd8e-f832-4197-f541-a3b0ea22083c",
        "colab": {
          "base_uri": "https://localhost:8080/",
          "height": 34
        }
      },
      "source": [
        "train_image = []\n",
        "for i in tqdm(range(train.shape[0])):\n",
        "    img = image.load_img(\"/content/drive/My Drive/Machine _Hack/janta-hack-CV/train/images/\"+train['image_names'][i], grayscale=False)\n",
        "    img = image.img_to_array(img)\n",
        "    img = img/255\n",
        "    train_image.append(img)\n",
        "X = np.array(train_image)"
      ],
      "execution_count": 6,
      "outputs": [
        {
          "output_type": "stream",
          "text": [
            "100%|██████████| 1646/1646 [12:27<00:00,  2.20it/s]\n"
          ],
          "name": "stderr"
        }
      ]
    },
    {
      "cell_type": "code",
      "metadata": {
        "id": "j43cjeN8wwHF",
        "colab_type": "code",
        "colab": {}
      },
      "source": [
        "y=train['emergency_or_not'].values\n",
        "y = to_categorical(y)"
      ],
      "execution_count": 0,
      "outputs": []
    },
    {
      "cell_type": "code",
      "metadata": {
        "id": "TKsvYAo6wwHQ",
        "colab_type": "code",
        "colab": {}
      },
      "source": [
        "X_train, X_test, y_train, y_test = train_test_split(X, y, test_size=0.15, random_state = 294)"
      ],
      "execution_count": 0,
      "outputs": []
    },
    {
      "cell_type": "markdown",
      "metadata": {
        "id": "U4fBrHTTtZ-A",
        "colab_type": "text"
      },
      "source": [
        "# VGG 16 Model"
      ]
    },
    {
      "cell_type": "code",
      "metadata": {
        "id": "gAEedxdbsgR7",
        "colab_type": "code",
        "outputId": "bd9bdf14-bb26-4dff-a96b-8128691903f5",
        "colab": {
          "base_uri": "https://localhost:8080/",
          "height": 1000
        }
      },
      "source": [
        "from keras.models import Sequential\n",
        "from keras import layers\n",
        "from keras.layers import Conv2D, MaxPooling2D, Dropout, Flatten, Dense, Activation,GlobalMaxPooling2D\n",
        "from keras import applications\n",
        "from keras.preprocessing.image import ImageDataGenerator\n",
        "from keras import optimizers\n",
        "from keras.applications import VGG16\n",
        "from keras.models import Model\n",
        "\n",
        "image_size = 224\n",
        "input_shape = (image_size, image_size, 3)\n",
        "\n",
        "epochs = 5\n",
        "batch_size = 16\n",
        "\n",
        "pre_trained_model = VGG16(input_shape=input_shape, include_top=False, weights=\"imagenet\")\n",
        "    \n",
        "for layer in pre_trained_model.layers[:15]:\n",
        "    layer.trainable = False\n",
        "\n",
        "for layer in pre_trained_model.layers[15:]:\n",
        "    layer.trainable = True\n",
        "    \n",
        "last_layer = pre_trained_model.get_layer('block5_pool')\n",
        "last_output = last_layer.output\n",
        "    \n",
        "# Flatten the output layer to 1 dimension\n",
        "x = GlobalMaxPooling2D()(last_output)\n",
        "# Add a fully connected layer with 512 hidden units and ReLU activation\n",
        "x = Dense(512, activation='relu')(x)\n",
        "# Add a dropout rate of 0.5\n",
        "x = Dropout(0.5)(x)\n",
        "# Add a final sigmoid layer for classification\n",
        "x = layers.Dense(2, activation='sigmoid')(x)\n",
        "\n",
        "model = Model(pre_trained_model.input, x)\n",
        "\n",
        "model.compile(loss='binary_crossentropy',\n",
        "              optimizer=optimizers.SGD(lr=1e-4, momentum=0.9),\n",
        "              metrics=['accuracy'])\n",
        "\n",
        "model.summary()"
      ],
      "execution_count": 9,
      "outputs": [
        {
          "output_type": "stream",
          "text": [
            "Downloading data from https://github.com/fchollet/deep-learning-models/releases/download/v0.1/vgg16_weights_tf_dim_ordering_tf_kernels_notop.h5\n",
            "58892288/58889256 [==============================] - 6s 0us/step\n",
            "Model: \"model_1\"\n",
            "_________________________________________________________________\n",
            "Layer (type)                 Output Shape              Param #   \n",
            "=================================================================\n",
            "input_1 (InputLayer)         (None, 224, 224, 3)       0         \n",
            "_________________________________________________________________\n",
            "block1_conv1 (Conv2D)        (None, 224, 224, 64)      1792      \n",
            "_________________________________________________________________\n",
            "block1_conv2 (Conv2D)        (None, 224, 224, 64)      36928     \n",
            "_________________________________________________________________\n",
            "block1_pool (MaxPooling2D)   (None, 112, 112, 64)      0         \n",
            "_________________________________________________________________\n",
            "block2_conv1 (Conv2D)        (None, 112, 112, 128)     73856     \n",
            "_________________________________________________________________\n",
            "block2_conv2 (Conv2D)        (None, 112, 112, 128)     147584    \n",
            "_________________________________________________________________\n",
            "block2_pool (MaxPooling2D)   (None, 56, 56, 128)       0         \n",
            "_________________________________________________________________\n",
            "block3_conv1 (Conv2D)        (None, 56, 56, 256)       295168    \n",
            "_________________________________________________________________\n",
            "block3_conv2 (Conv2D)        (None, 56, 56, 256)       590080    \n",
            "_________________________________________________________________\n",
            "block3_conv3 (Conv2D)        (None, 56, 56, 256)       590080    \n",
            "_________________________________________________________________\n",
            "block3_pool (MaxPooling2D)   (None, 28, 28, 256)       0         \n",
            "_________________________________________________________________\n",
            "block4_conv1 (Conv2D)        (None, 28, 28, 512)       1180160   \n",
            "_________________________________________________________________\n",
            "block4_conv2 (Conv2D)        (None, 28, 28, 512)       2359808   \n",
            "_________________________________________________________________\n",
            "block4_conv3 (Conv2D)        (None, 28, 28, 512)       2359808   \n",
            "_________________________________________________________________\n",
            "block4_pool (MaxPooling2D)   (None, 14, 14, 512)       0         \n",
            "_________________________________________________________________\n",
            "block5_conv1 (Conv2D)        (None, 14, 14, 512)       2359808   \n",
            "_________________________________________________________________\n",
            "block5_conv2 (Conv2D)        (None, 14, 14, 512)       2359808   \n",
            "_________________________________________________________________\n",
            "block5_conv3 (Conv2D)        (None, 14, 14, 512)       2359808   \n",
            "_________________________________________________________________\n",
            "block5_pool (MaxPooling2D)   (None, 7, 7, 512)         0         \n",
            "_________________________________________________________________\n",
            "global_max_pooling2d_1 (Glob (None, 512)               0         \n",
            "_________________________________________________________________\n",
            "dense_1 (Dense)              (None, 512)               262656    \n",
            "_________________________________________________________________\n",
            "dropout_1 (Dropout)          (None, 512)               0         \n",
            "_________________________________________________________________\n",
            "dense_2 (Dense)              (None, 2)                 1026      \n",
            "=================================================================\n",
            "Total params: 14,978,370\n",
            "Trainable params: 7,343,106\n",
            "Non-trainable params: 7,635,264\n",
            "_________________________________________________________________\n"
          ],
          "name": "stdout"
        }
      ]
    },
    {
      "cell_type": "markdown",
      "metadata": {
        "id": "WB459jTXzIg0",
        "colab_type": "text"
      },
      "source": [
        "# Resnet 101 Model"
      ]
    },
    {
      "cell_type": "code",
      "metadata": {
        "id": "usWsY0ipwSoS",
        "colab_type": "code",
        "colab": {}
      },
      "source": [
        "from keras.applications import ResNet101"
      ],
      "execution_count": 0,
      "outputs": []
    },
    {
      "cell_type": "code",
      "metadata": {
        "id": "Pr_ePVkcwLHJ",
        "colab_type": "code",
        "colab": {}
      },
      "source": [
        "image_size = 224\n",
        "input_shape = (image_size, image_size, 3)\n",
        "epochs = 5\n",
        "batch_size = 16\n",
        "# pre_trained_model = ResNet101(input_shape=input_shape, include_top=False, weights=\"imagenet\")\n",
        "my_new_model = Sequential()\n",
        "my_new_model.add(ResNet101(input_shape=input_shape, include_top=False, weights=\"imagenet\"))\n",
        "my_new_model.add(Dense(1024, activation='relu'))\n",
        "my_new_model.add(Dense(512, activation='relu'))\n",
        "my_new_model.add(Dropout(0.5))\n",
        "my_new_model.add(Dense(256, activation='relu'))\n",
        "my_new_model.add(Dense(2, activation='softmax'))\n",
        "\n",
        "# Say not to train first layer (ResNet) model. It is already trained\n",
        "my_new_model.layers[0].trainable = False"
      ],
      "execution_count": 0,
      "outputs": []
    },
    {
      "cell_type": "code",
      "metadata": {
        "id": "akCGVdYnxDZ-",
        "colab_type": "code",
        "colab": {
          "base_uri": "https://localhost:8080/",
          "height": 364
        },
        "outputId": "e7fe15c7-d0b7-4744-d6ec-20a447f40c7e"
      },
      "source": [
        "my_new_model.compile(loss='binary_crossentropy',\n",
        "              optimizer=optimizers.SGD(lr=1e-4, momentum=0.9),\n",
        "              metrics=['accuracy'])\n",
        "\n",
        "my_new_model.summary()"
      ],
      "execution_count": 16,
      "outputs": [
        {
          "output_type": "stream",
          "text": [
            "Model: \"sequential_2\"\n",
            "_________________________________________________________________\n",
            "Layer (type)                 Output Shape              Param #   \n",
            "=================================================================\n",
            "resnet101 (Model)            (None, 7, 7, 2048)        42658176  \n",
            "_________________________________________________________________\n",
            "dense_6 (Dense)              (None, 7, 7, 1024)        2098176   \n",
            "_________________________________________________________________\n",
            "dense_7 (Dense)              (None, 7, 7, 512)         524800    \n",
            "_________________________________________________________________\n",
            "dropout_3 (Dropout)          (None, 7, 7, 512)         0         \n",
            "_________________________________________________________________\n",
            "dense_8 (Dense)              (None, 7, 7, 256)         131328    \n",
            "_________________________________________________________________\n",
            "dense_9 (Dense)              (None, 7, 7, 2)           514       \n",
            "=================================================================\n",
            "Total params: 45,412,994\n",
            "Trainable params: 2,754,818\n",
            "Non-trainable params: 42,658,176\n",
            "_________________________________________________________________\n"
          ],
          "name": "stdout"
        }
      ]
    },
    {
      "cell_type": "markdown",
      "metadata": {
        "id": "_ACrEpQqzMK1",
        "colab_type": "text"
      },
      "source": [
        "# Model Training"
      ]
    },
    {
      "cell_type": "code",
      "metadata": {
        "id": "SVBxL9ln2_VR",
        "colab_type": "code",
        "colab": {}
      },
      "source": [
        "from keras.callbacks import EarlyStopping\n",
        "from keras.callbacks import ModelCheckpoint\n",
        "es = EarlyStopping(monitor='val_loss', mode='min', verbose=1, patience=200)\n",
        "mc = ModelCheckpoint('best_model.h5', monitor='val_accuracy', mode='max', verbose=1, save_best_only=True)"
      ],
      "execution_count": 0,
      "outputs": []
    },
    {
      "cell_type": "code",
      "metadata": {
        "id": "P1hBGSKXtf0c",
        "colab_type": "code",
        "outputId": "683b380a-a65d-4ee6-a688-df7595e6eb8c",
        "colab": {
          "base_uri": "https://localhost:8080/",
          "height": 1000
        }
      },
      "source": [
        "model.fit(X_train, y_train, epochs=50,  validation_data=(X_test, y_test),callbacks=[es,mc])"
      ],
      "execution_count": 26,
      "outputs": [
        {
          "output_type": "stream",
          "text": [
            "Train on 1399 samples, validate on 247 samples\n",
            "Epoch 1/50\n",
            "1399/1399 [==============================] - 17s 12ms/step - loss: 0.1558 - accuracy: 0.9467 - val_loss: 0.2418 - val_accuracy: 0.9008\n",
            "\n",
            "Epoch 00001: val_accuracy improved from 0.89879 to 0.90081, saving model to best_model.h5\n",
            "Epoch 2/50\n",
            "1399/1399 [==============================] - 17s 12ms/step - loss: 0.1475 - accuracy: 0.9417 - val_loss: 0.2352 - val_accuracy: 0.8968\n",
            "\n",
            "Epoch 00002: val_accuracy did not improve from 0.90081\n",
            "Epoch 3/50\n",
            "1399/1399 [==============================] - 17s 12ms/step - loss: 0.1401 - accuracy: 0.9485 - val_loss: 0.2336 - val_accuracy: 0.8968\n",
            "\n",
            "Epoch 00003: val_accuracy did not improve from 0.90081\n",
            "Epoch 4/50\n",
            "1399/1399 [==============================] - 17s 12ms/step - loss: 0.1357 - accuracy: 0.9489 - val_loss: 0.2322 - val_accuracy: 0.8988\n",
            "\n",
            "Epoch 00004: val_accuracy did not improve from 0.90081\n",
            "Epoch 5/50\n",
            "1399/1399 [==============================] - 17s 12ms/step - loss: 0.1284 - accuracy: 0.9560 - val_loss: 0.2285 - val_accuracy: 0.8988\n",
            "\n",
            "Epoch 00005: val_accuracy did not improve from 0.90081\n",
            "Epoch 6/50\n",
            "1399/1399 [==============================] - 17s 12ms/step - loss: 0.1240 - accuracy: 0.9582 - val_loss: 0.2296 - val_accuracy: 0.8988\n",
            "\n",
            "Epoch 00006: val_accuracy did not improve from 0.90081\n",
            "Epoch 7/50\n",
            "1399/1399 [==============================] - 17s 12ms/step - loss: 0.1126 - accuracy: 0.9639 - val_loss: 0.2291 - val_accuracy: 0.9008\n",
            "\n",
            "Epoch 00007: val_accuracy did not improve from 0.90081\n",
            "Epoch 8/50\n",
            "1399/1399 [==============================] - 17s 12ms/step - loss: 0.1161 - accuracy: 0.9593 - val_loss: 0.2250 - val_accuracy: 0.8988\n",
            "\n",
            "Epoch 00008: val_accuracy did not improve from 0.90081\n",
            "Epoch 9/50\n",
            "1399/1399 [==============================] - 17s 12ms/step - loss: 0.1089 - accuracy: 0.9628 - val_loss: 0.2260 - val_accuracy: 0.8988\n",
            "\n",
            "Epoch 00009: val_accuracy did not improve from 0.90081\n",
            "Epoch 10/50\n",
            "1399/1399 [==============================] - 17s 12ms/step - loss: 0.1080 - accuracy: 0.9711 - val_loss: 0.2293 - val_accuracy: 0.8988\n",
            "\n",
            "Epoch 00010: val_accuracy did not improve from 0.90081\n",
            "Epoch 11/50\n",
            "1399/1399 [==============================] - 17s 12ms/step - loss: 0.0989 - accuracy: 0.9693 - val_loss: 0.2284 - val_accuracy: 0.9008\n",
            "\n",
            "Epoch 00011: val_accuracy did not improve from 0.90081\n",
            "Epoch 12/50\n",
            "1399/1399 [==============================] - 17s 12ms/step - loss: 0.0999 - accuracy: 0.9650 - val_loss: 0.2264 - val_accuracy: 0.9008\n",
            "\n",
            "Epoch 00012: val_accuracy did not improve from 0.90081\n",
            "Epoch 13/50\n",
            "1399/1399 [==============================] - 17s 12ms/step - loss: 0.0930 - accuracy: 0.9732 - val_loss: 0.2275 - val_accuracy: 0.9028\n",
            "\n",
            "Epoch 00013: val_accuracy improved from 0.90081 to 0.90283, saving model to best_model.h5\n",
            "Epoch 14/50\n",
            "1399/1399 [==============================] - 17s 12ms/step - loss: 0.0955 - accuracy: 0.9689 - val_loss: 0.2235 - val_accuracy: 0.9028\n",
            "\n",
            "Epoch 00014: val_accuracy did not improve from 0.90283\n",
            "Epoch 15/50\n",
            "1399/1399 [==============================] - 17s 12ms/step - loss: 0.0869 - accuracy: 0.9753 - val_loss: 0.2269 - val_accuracy: 0.9028\n",
            "\n",
            "Epoch 00015: val_accuracy did not improve from 0.90283\n",
            "Epoch 16/50\n",
            "1399/1399 [==============================] - 17s 12ms/step - loss: 0.0828 - accuracy: 0.9728 - val_loss: 0.2250 - val_accuracy: 0.9049\n",
            "\n",
            "Epoch 00016: val_accuracy improved from 0.90283 to 0.90486, saving model to best_model.h5\n",
            "Epoch 17/50\n",
            "1399/1399 [==============================] - 17s 12ms/step - loss: 0.0864 - accuracy: 0.9721 - val_loss: 0.2262 - val_accuracy: 0.9028\n",
            "\n",
            "Epoch 00017: val_accuracy did not improve from 0.90486\n",
            "Epoch 18/50\n",
            "1399/1399 [==============================] - 17s 12ms/step - loss: 0.0886 - accuracy: 0.9714 - val_loss: 0.2251 - val_accuracy: 0.9008\n",
            "\n",
            "Epoch 00018: val_accuracy did not improve from 0.90486\n",
            "Epoch 19/50\n",
            "1399/1399 [==============================] - 17s 12ms/step - loss: 0.0797 - accuracy: 0.9764 - val_loss: 0.2276 - val_accuracy: 0.9028\n",
            "\n",
            "Epoch 00019: val_accuracy did not improve from 0.90486\n",
            "Epoch 20/50\n",
            "1399/1399 [==============================] - 17s 12ms/step - loss: 0.0748 - accuracy: 0.9793 - val_loss: 0.2242 - val_accuracy: 0.9028\n",
            "\n",
            "Epoch 00020: val_accuracy did not improve from 0.90486\n",
            "Epoch 21/50\n",
            "1399/1399 [==============================] - 17s 12ms/step - loss: 0.0700 - accuracy: 0.9796 - val_loss: 0.2224 - val_accuracy: 0.9028\n",
            "\n",
            "Epoch 00021: val_accuracy did not improve from 0.90486\n",
            "Epoch 22/50\n",
            "1399/1399 [==============================] - 17s 12ms/step - loss: 0.0698 - accuracy: 0.9786 - val_loss: 0.2233 - val_accuracy: 0.9028\n",
            "\n",
            "Epoch 00022: val_accuracy did not improve from 0.90486\n",
            "Epoch 23/50\n",
            "1399/1399 [==============================] - 17s 12ms/step - loss: 0.0705 - accuracy: 0.9775 - val_loss: 0.2307 - val_accuracy: 0.9049\n",
            "\n",
            "Epoch 00023: val_accuracy did not improve from 0.90486\n",
            "Epoch 24/50\n",
            "1399/1399 [==============================] - 17s 12ms/step - loss: 0.0691 - accuracy: 0.9800 - val_loss: 0.2293 - val_accuracy: 0.9008\n",
            "\n",
            "Epoch 00024: val_accuracy did not improve from 0.90486\n",
            "Epoch 25/50\n",
            "1399/1399 [==============================] - 17s 12ms/step - loss: 0.0639 - accuracy: 0.9814 - val_loss: 0.2313 - val_accuracy: 0.9008\n",
            "\n",
            "Epoch 00025: val_accuracy did not improve from 0.90486\n",
            "Epoch 26/50\n",
            "1399/1399 [==============================] - 17s 12ms/step - loss: 0.0587 - accuracy: 0.9850 - val_loss: 0.2316 - val_accuracy: 0.9049\n",
            "\n",
            "Epoch 00026: val_accuracy did not improve from 0.90486\n",
            "Epoch 27/50\n",
            "1399/1399 [==============================] - 17s 12ms/step - loss: 0.0623 - accuracy: 0.9836 - val_loss: 0.2258 - val_accuracy: 0.9028\n",
            "\n",
            "Epoch 00027: val_accuracy did not improve from 0.90486\n",
            "Epoch 28/50\n",
            "1399/1399 [==============================] - 17s 12ms/step - loss: 0.0585 - accuracy: 0.9846 - val_loss: 0.2284 - val_accuracy: 0.9028\n",
            "\n",
            "Epoch 00028: val_accuracy did not improve from 0.90486\n",
            "Epoch 29/50\n",
            "1399/1399 [==============================] - 17s 12ms/step - loss: 0.0577 - accuracy: 0.9825 - val_loss: 0.2321 - val_accuracy: 0.9049\n",
            "\n",
            "Epoch 00029: val_accuracy did not improve from 0.90486\n",
            "Epoch 30/50\n",
            "1399/1399 [==============================] - 17s 12ms/step - loss: 0.0539 - accuracy: 0.9843 - val_loss: 0.2311 - val_accuracy: 0.9008\n",
            "\n",
            "Epoch 00030: val_accuracy did not improve from 0.90486\n",
            "Epoch 31/50\n",
            "1399/1399 [==============================] - 17s 12ms/step - loss: 0.0547 - accuracy: 0.9836 - val_loss: 0.2254 - val_accuracy: 0.9049\n",
            "\n",
            "Epoch 00031: val_accuracy did not improve from 0.90486\n",
            "Epoch 32/50\n",
            "1399/1399 [==============================] - 17s 12ms/step - loss: 0.0488 - accuracy: 0.9907 - val_loss: 0.2290 - val_accuracy: 0.9028\n",
            "\n",
            "Epoch 00032: val_accuracy did not improve from 0.90486\n",
            "Epoch 33/50\n",
            "1399/1399 [==============================] - 17s 12ms/step - loss: 0.0480 - accuracy: 0.9900 - val_loss: 0.2358 - val_accuracy: 0.9049\n",
            "\n",
            "Epoch 00033: val_accuracy did not improve from 0.90486\n",
            "Epoch 34/50\n",
            "1399/1399 [==============================] - 17s 12ms/step - loss: 0.0485 - accuracy: 0.9904 - val_loss: 0.2290 - val_accuracy: 0.9049\n",
            "\n",
            "Epoch 00034: val_accuracy did not improve from 0.90486\n",
            "Epoch 35/50\n",
            "1399/1399 [==============================] - 17s 12ms/step - loss: 0.0444 - accuracy: 0.9893 - val_loss: 0.2327 - val_accuracy: 0.9028\n",
            "\n",
            "Epoch 00035: val_accuracy did not improve from 0.90486\n",
            "Epoch 36/50\n",
            "1399/1399 [==============================] - 17s 12ms/step - loss: 0.0469 - accuracy: 0.9889 - val_loss: 0.2309 - val_accuracy: 0.9008\n",
            "\n",
            "Epoch 00036: val_accuracy did not improve from 0.90486\n",
            "Epoch 37/50\n",
            "1399/1399 [==============================] - 17s 12ms/step - loss: 0.0456 - accuracy: 0.9896 - val_loss: 0.2377 - val_accuracy: 0.9028\n",
            "\n",
            "Epoch 00037: val_accuracy did not improve from 0.90486\n",
            "Epoch 38/50\n",
            "1399/1399 [==============================] - 17s 12ms/step - loss: 0.0440 - accuracy: 0.9921 - val_loss: 0.2428 - val_accuracy: 0.9069\n",
            "\n",
            "Epoch 00038: val_accuracy improved from 0.90486 to 0.90688, saving model to best_model.h5\n",
            "Epoch 39/50\n",
            "1399/1399 [==============================] - 17s 12ms/step - loss: 0.0428 - accuracy: 0.9904 - val_loss: 0.2339 - val_accuracy: 0.9028\n",
            "\n",
            "Epoch 00039: val_accuracy did not improve from 0.90688\n",
            "Epoch 40/50\n",
            "1399/1399 [==============================] - 17s 12ms/step - loss: 0.0382 - accuracy: 0.9907 - val_loss: 0.2447 - val_accuracy: 0.9089\n",
            "\n",
            "Epoch 00040: val_accuracy improved from 0.90688 to 0.90891, saving model to best_model.h5\n",
            "Epoch 41/50\n",
            "1399/1399 [==============================] - 17s 12ms/step - loss: 0.0382 - accuracy: 0.9925 - val_loss: 0.2388 - val_accuracy: 0.9008\n",
            "\n",
            "Epoch 00041: val_accuracy did not improve from 0.90891\n",
            "Epoch 42/50\n",
            "1399/1399 [==============================] - 17s 12ms/step - loss: 0.0360 - accuracy: 0.9929 - val_loss: 0.2350 - val_accuracy: 0.9008\n",
            "\n",
            "Epoch 00042: val_accuracy did not improve from 0.90891\n",
            "Epoch 43/50\n",
            "1399/1399 [==============================] - 17s 12ms/step - loss: 0.0386 - accuracy: 0.9932 - val_loss: 0.2346 - val_accuracy: 0.9049\n",
            "\n",
            "Epoch 00043: val_accuracy did not improve from 0.90891\n",
            "Epoch 44/50\n",
            "1399/1399 [==============================] - 17s 12ms/step - loss: 0.0328 - accuracy: 0.9936 - val_loss: 0.2420 - val_accuracy: 0.9069\n",
            "\n",
            "Epoch 00044: val_accuracy did not improve from 0.90891\n",
            "Epoch 45/50\n",
            "1399/1399 [==============================] - 17s 12ms/step - loss: 0.0348 - accuracy: 0.9929 - val_loss: 0.2351 - val_accuracy: 0.9069\n",
            "\n",
            "Epoch 00045: val_accuracy did not improve from 0.90891\n",
            "Epoch 46/50\n",
            "1399/1399 [==============================] - 17s 12ms/step - loss: 0.0352 - accuracy: 0.9921 - val_loss: 0.2372 - val_accuracy: 0.9069\n",
            "\n",
            "Epoch 00046: val_accuracy did not improve from 0.90891\n",
            "Epoch 47/50\n",
            "1399/1399 [==============================] - 17s 12ms/step - loss: 0.0325 - accuracy: 0.9929 - val_loss: 0.2365 - val_accuracy: 0.9049\n",
            "\n",
            "Epoch 00047: val_accuracy did not improve from 0.90891\n",
            "Epoch 48/50\n",
            "1399/1399 [==============================] - 17s 12ms/step - loss: 0.0306 - accuracy: 0.9939 - val_loss: 0.2375 - val_accuracy: 0.9069\n",
            "\n",
            "Epoch 00048: val_accuracy did not improve from 0.90891\n",
            "Epoch 49/50\n",
            "1399/1399 [==============================] - 17s 12ms/step - loss: 0.0291 - accuracy: 0.9950 - val_loss: 0.2392 - val_accuracy: 0.9069\n",
            "\n",
            "Epoch 00049: val_accuracy did not improve from 0.90891\n",
            "Epoch 50/50\n",
            "1399/1399 [==============================] - 17s 12ms/step - loss: 0.0302 - accuracy: 0.9936 - val_loss: 0.2434 - val_accuracy: 0.8988\n",
            "\n",
            "Epoch 00050: val_accuracy did not improve from 0.90891\n"
          ],
          "name": "stdout"
        },
        {
          "output_type": "execute_result",
          "data": {
            "text/plain": [
              "<keras.callbacks.callbacks.History at 0x7f077c8d86a0>"
            ]
          },
          "metadata": {
            "tags": []
          },
          "execution_count": 26
        }
      ]
    },
    {
      "cell_type": "markdown",
      "metadata": {
        "id": "hxQn2oBR2s2K",
        "colab_type": "text"
      },
      "source": [
        "## Generic Model"
      ]
    },
    {
      "cell_type": "code",
      "metadata": {
        "id": "ZuTRLk0HwwHY",
        "colab_type": "code",
        "colab": {}
      },
      "source": [
        "# model = Sequential()\n",
        "# model.add(Conv2D(32, kernel_size=(3, 3),activation='relu',kernel_initializer='he_uniform',input_shape=(28,28,1)))\n",
        "# model.add(Conv2D(64, (3, 3), activation='relu',kernel_initializer='he_uniform'))\n",
        "# model.add(MaxPooling2D((2, 2)))\n",
        "# model.add(Dropout(0.2))\n",
        "# model.add(Conv2D(128, (3, 3), activation='relu', kernel_initializer='he_uniform', padding='same'))\n",
        "# model.add(MaxPooling2D((2, 2)))\n",
        "# model.add(Dropout(0.2))\n",
        "# model.add(Flatten())\n",
        "# model.add(Dense(128, activation='relu'))\n",
        "# model.add(Dropout(0.5))\n",
        "# model.add(Dense(2, activation='softmax'))"
      ],
      "execution_count": 0,
      "outputs": []
    },
    {
      "cell_type": "code",
      "metadata": {
        "id": "jSSVfs3cwwHg",
        "colab_type": "code",
        "colab": {}
      },
      "source": [
        "# model.compile(loss='binary_crossentropy',optimizer=\"sgd\",metrics=['accuracy'])"
      ],
      "execution_count": 0,
      "outputs": []
    },
    {
      "cell_type": "code",
      "metadata": {
        "id": "Tw6eqZiIwwHs",
        "colab_type": "code",
        "colab": {}
      },
      "source": [
        "# model.fit(X_train, y_train, epochs=500,  validation_data=(X_test, y_test))"
      ],
      "execution_count": 0,
      "outputs": []
    },
    {
      "cell_type": "markdown",
      "metadata": {
        "id": "osfx0uZi4ZE-",
        "colab_type": "text"
      },
      "source": [
        "# Graphs"
      ]
    },
    {
      "cell_type": "code",
      "metadata": {
        "id": "64Ee3vTa3v15",
        "colab_type": "code",
        "colab": {}
      },
      "source": [
        "def plot_model_history(model_history, acc='acc', val_acc='val_acc'):\n",
        "    fig, axs = plt.subplots(1,2,figsize=(15,5))\n",
        "    axs[0].plot(range(1,len(model_history.history[acc])+1),model_history.history[acc])\n",
        "    axs[0].plot(range(1,len(model_history.history[val_acc])+1),model_history.history[val_acc])\n",
        "    axs[0].set_title('Model Accuracy')\n",
        "    axs[0].set_ylabel('Accuracy')\n",
        "    axs[0].set_xlabel('Epoch')\n",
        "    axs[0].set_xticks(np.arange(1,len(model_history.history[acc])+1),len(model_history.history[acc])/10)\n",
        "    axs[0].legend(['train', 'val'], loc='best')\n",
        "    axs[1].plot(range(1,len(model_history.history['loss'])+1),model_history.history['loss'])\n",
        "    axs[1].plot(range(1,len(model_history.history['val_loss'])+1),model_history.history['val_loss'])\n",
        "    axs[1].set_title('Model Loss')\n",
        "    axs[1].set_ylabel('Loss')\n",
        "    axs[1].set_xlabel('Epoch')\n",
        "    axs[1].set_xticks(np.arange(1,len(model_history.history['loss'])+1),len(model_history.history['loss'])/10)\n",
        "    axs[1].legend(['train', 'val'], loc='best')\n",
        "    plt.show()"
      ],
      "execution_count": 0,
      "outputs": []
    },
    {
      "cell_type": "markdown",
      "metadata": {
        "id": "NueH2esE2wxw",
        "colab_type": "text"
      },
      "source": [
        "# Inference of the model"
      ]
    },
    {
      "cell_type": "code",
      "metadata": {
        "id": "BJNVn8ocwwIB",
        "colab_type": "code",
        "colab": {}
      },
      "source": [
        "test = pd.read_csv(\"/content/drive/My Drive/Machine _Hack/janta-hack-CV/test/test.csv\")"
      ],
      "execution_count": 0,
      "outputs": []
    },
    {
      "cell_type": "code",
      "metadata": {
        "id": "aTPM_6HiwwIR",
        "colab_type": "code",
        "outputId": "fecad55c-63c7-4ec5-89b3-2fb46f0c7bab",
        "colab": {
          "base_uri": "https://localhost:8080/",
          "height": 34
        }
      },
      "source": [
        "test_image = []\n",
        "for i in tqdm(range(test.shape[0])):\n",
        "    img = image.load_img('/content/drive/My Drive/Machine _Hack/janta-hack-CV/test/images/'+test['image_names'][i])\n",
        "    img = image.img_to_array(img)\n",
        "    img = img/255\n",
        "    test_image.append(img)\n",
        "test = np.array(test_image)"
      ],
      "execution_count": 33,
      "outputs": [
        {
          "output_type": "stream",
          "text": [
            "100%|██████████| 706/706 [00:02<00:00, 346.38it/s]\n"
          ],
          "name": "stderr"
        }
      ]
    },
    {
      "cell_type": "code",
      "metadata": {
        "id": "_GTLzOD3wwIh",
        "colab_type": "code",
        "colab": {}
      },
      "source": [
        "from keras.models import load_model\n",
        "model = load_model(\"/content/best_model.h5\")"
      ],
      "execution_count": 0,
      "outputs": []
    },
    {
      "cell_type": "code",
      "metadata": {
        "id": "vfA2oXf-8G2p",
        "colab_type": "code",
        "colab": {}
      },
      "source": [
        "prediction = model.predict(test)"
      ],
      "execution_count": 0,
      "outputs": []
    },
    {
      "cell_type": "code",
      "metadata": {
        "id": "2Ro_wFnd8Wj8",
        "colab_type": "code",
        "colab": {}
      },
      "source": [
        "classs = np.argmax(prediction, axis = 1)"
      ],
      "execution_count": 0,
      "outputs": []
    },
    {
      "cell_type": "code",
      "metadata": {
        "id": "AOI-0Lo_wwIs",
        "colab_type": "code",
        "colab": {}
      },
      "source": [
        "sample = pd.read_csv(\"/content/drive/My Drive/Machine _Hack/janta-hack-CV/sample_submission_yxjOnvz.csv\")"
      ],
      "execution_count": 0,
      "outputs": []
    },
    {
      "cell_type": "code",
      "metadata": {
        "id": "JNcOvg-RwwI0",
        "colab_type": "code",
        "colab": {}
      },
      "source": [
        "sample['emergency_or_not'] = classs\n",
        "sample.to_csv(\"Final_sub_resnet\"+'.csv', header=True, index=False)\n"
      ],
      "execution_count": 0,
      "outputs": []
    },
    {
      "cell_type": "code",
      "metadata": {
        "id": "ax9DFckgma3k",
        "colab_type": "code",
        "colab": {}
      },
      "source": [
        ""
      ],
      "execution_count": 0,
      "outputs": []
    },
    {
      "cell_type": "code",
      "metadata": {
        "id": "7l9GIUNvma1u",
        "colab_type": "code",
        "colab": {}
      },
      "source": [
        ""
      ],
      "execution_count": 0,
      "outputs": []
    },
    {
      "cell_type": "code",
      "metadata": {
        "id": "rXC8X1Cpmau7",
        "colab_type": "code",
        "colab": {}
      },
      "source": [
        ""
      ],
      "execution_count": 0,
      "outputs": []
    },
    {
      "cell_type": "code",
      "metadata": {
        "id": "wgmd4lz8mas3",
        "colab_type": "code",
        "colab": {}
      },
      "source": [
        ""
      ],
      "execution_count": 0,
      "outputs": []
    },
    {
      "cell_type": "code",
      "metadata": {
        "id": "o4xelGxtmamZ",
        "colab_type": "code",
        "colab": {}
      },
      "source": [
        ""
      ],
      "execution_count": 0,
      "outputs": []
    }
  ]
}